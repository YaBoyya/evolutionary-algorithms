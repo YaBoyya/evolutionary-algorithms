{
 "cells": [
  {
   "cell_type": "code",
   "execution_count": 1,
   "id": "a9573ccf-afab-4c60-b7db-47012ecab072",
   "metadata": {},
   "outputs": [],
   "source": [
    "from evotorch import Problem\n",
    "from evotorch.algorithms import GeneticAlgorithm\n",
    "from evotorch.operators import OnePointCrossOver, GaussianMutation\n",
    "from torch import Tensor\n",
    "import random\n",
    "import torch\n",
    "import math"
   ]
  },
  {
   "cell_type": "code",
   "execution_count": 2,
   "id": "92b6afc4-61cf-4985-9852-384f47280646",
   "metadata": {},
   "outputs": [],
   "source": [
    "def distance(x, y):\n",
    "    return math.sqrt((x[0]-y[0])**2+(x[1]-y[1])**2)\n",
    "\n",
    "\n",
    "def fun(x):\n",
    "    #Huge penalty for non unique indexes\n",
    "    uniq = x.unique()\n",
    "    if(uniq.size(0) != x.size(0)):\n",
    "        return (x.size(0)-uniq.size(0))*penalty\n",
    "    dist = distance(cityList[x[x.size(0) - 1]], cityList[x[0]])\n",
    "    for i in range(x.size(0) - 1):\n",
    "        dist += distance(cityList[x[i]], cityList[x[i + 1]])\n",
    "    return dist\n",
    "\n",
    "\n",
    "def mutation(values: torch.Tensor) -> torch.Tensor:\n",
    "    u = values[0].unique()\n",
    "    #Makes indexes all unique\n",
    "    if(u.size(0) != city_count):\n",
    "        all = list(range(city_count))\n",
    "        for i in u:\n",
    "            all.remove(i)\n",
    "        random.shuffle(all)\n",
    "        values = torch.cat([u, torch.Tensor(all)])\n",
    "        \n",
    "    #Swaps values in population randomly\n",
    "    swap_count = math.floor(0)\n",
    "    for i in range(swap_count):\n",
    "        r1 = random.randint(0, city_count-1)\n",
    "        r2 = random.randint(0, city_count-2)\n",
    "        if(r2 >= r1):\n",
    "            r2 += 1\n",
    "        values[r1], values[r2] = values[r2], values[r1]\n",
    "    return values\n",
    "\n",
    "\n",
    "def create_city_list(city_count: int) -> list:\n",
    "    val_range = city_count*1000\n",
    "    return [\n",
    "        (random.randrange(val_range), random.randrange(val_range))\n",
    "        for _ in range(city_count)\n",
    "    ]"
   ]
  },
  {
   "cell_type": "code",
   "execution_count": 3,
   "id": "0398f498-11ee-463c-9677-2e0ad05eb682",
   "metadata": {},
   "outputs": [],
   "source": [
    "max_dist = 0\n",
    "popsize = 20\n",
    "city_count = 100\n",
    "cityList = create_city_list(city_count)\n",
    "\n",
    "for i in cityList:\n",
    "    for j in cityList:\n",
    "        dist = distance(i, j)\n",
    "        if(dist > max_dist):\n",
    "            max_dist = dist\n",
    "penalty = max_dist * len(cityList)"
   ]
  },
  {
   "cell_type": "code",
   "execution_count": 4,
   "id": "d6ba2149-8075-45ca-9474-8c6b98e01e39",
   "metadata": {
    "scrolled": true
   },
   "outputs": [
    {
     "name": "stdout",
     "output_type": "stream",
     "text": [
      "[2024-05-31 15:59:10] INFO     < 6572> evotorch.core: Instance of `Problem` (id:140283750584656) -- The `dtype` for the problem's decision variables is set as torch.int64\n",
      "[2024-05-31 15:59:10] INFO     < 6572> evotorch.core: Instance of `Problem` (id:140283750584656) -- `eval_dtype` (the dtype of the fitnesses and evaluation data) is set as torch.float32\n",
      "[2024-05-31 15:59:10] INFO     < 6572> evotorch.core: Instance of `Problem` (id:140283750584656) -- The `device` of the problem is set as cpu\n"
     ]
    },
    {
     "name": "stderr",
     "output_type": "stream",
     "text": [
      "2024-05-31 15:59:12,292\tINFO worker.py:1749 -- Started a local Ray instance.\n"
     ]
    },
    {
     "name": "stdout",
     "output_type": "stream",
     "text": [
      "[2024-05-31 15:59:13] INFO     < 6572> evotorch.core: Instance of `Problem` (id:140283750584656) -- The number of actors that will be allocated for parallelized evaluation is 4\n",
      "[2024-05-31 15:59:13] INFO     < 6572> evotorch.core: Instance of `Problem` (id:140283750584656) -- Number of GPUs that will be allocated per actor is None\n"
     ]
    }
   ],
   "source": [
    "problem = Problem(\"min\", fun, bounds=(0, city_count-1), solution_length=city_count, num_actors = 'max', dtype=torch.int64)\n",
    "\n",
    "searcher = GeneticAlgorithm(problem, popsize=popsize, operators=[\n",
    "    OnePointCrossOver(problem, tournament_size=math.floor(city_count*0.1)),\n",
    "    mutation\n",
    "])"
   ]
  },
  {
   "cell_type": "code",
   "execution_count": null,
   "id": "d5e37ef4-201b-45e1-9000-66dc7d08af27",
   "metadata": {},
   "outputs": [],
   "source": [
    "for i in range(1):\n",
    "    searcher.run(100)\n",
    "    print(i, \": \", searcher.status[\"best_eval\"])"
   ]
  },
  {
   "cell_type": "code",
   "execution_count": null,
   "id": "89bb47ec-d27f-4e8c-9a60-7bdf91551de5",
   "metadata": {},
   "outputs": [],
   "source": [
    "searcher.status"
   ]
  },
  {
   "cell_type": "code",
   "execution_count": null,
   "id": "db8a0b42-b968-4c3e-9b05-1f7dd2df051f",
   "metadata": {},
   "outputs": [],
   "source": [
    "import networkx as nx\n",
    "G = nx.cycle_graph(city_count)\n",
    "for i in range(city_count):\n",
    "    for j in range(city_count):\n",
    "        G.add_edge(i, j, weight=distance(cityList[i], cityList[j]))"
   ]
  },
  {
   "cell_type": "code",
   "execution_count": null,
   "id": "37f44e14-866d-4b40-b81e-dd96768655f4",
   "metadata": {},
   "outputs": [],
   "source": [
    "path = nx.approximation.traveling_salesman_problem(G)"
   ]
  },
  {
   "cell_type": "code",
   "execution_count": null,
   "id": "1d394126-0413-4035-ae8d-3aac435dbf9b",
   "metadata": {},
   "outputs": [],
   "source": [
    "dist = 0\n",
    "for i in range(city_count):\n",
    "    dist += distance(cityList[path[i]], cityList[path[i+1]])"
   ]
  },
  {
   "cell_type": "code",
   "execution_count": null,
   "id": "5ed9f5ed-2cf2-49cc-b681-229a23c115e6",
   "metadata": {},
   "outputs": [],
   "source": [
    "ans = searcher.status[\"best_eval\"]\n",
    "print(f\"perfect: {dist}\")\n",
    "print(path[:-1])\n",
    "print()\n",
    "print(f\"ai: {ans}\")\n",
    "print(searcher.status[\"best\"].values.tolist())\n",
    "print()\n",
    "print(f\"diff: {ans-dist}\")\n",
    "print(f\"magnitude: {ans/dist}\")"
   ]
  },
  {
   "cell_type": "code",
   "execution_count": null,
   "id": "4d029bf7-bd35-47ac-822e-d4cecdc110a2",
   "metadata": {},
   "outputs": [],
   "source": []
  }
 ],
 "metadata": {
  "kernelspec": {
   "display_name": "Python 3 (ipykernel)",
   "language": "python",
   "name": "python3"
  },
  "language_info": {
   "codemirror_mode": {
    "name": "ipython",
    "version": 3
   },
   "file_extension": ".py",
   "mimetype": "text/x-python",
   "name": "python",
   "nbconvert_exporter": "python",
   "pygments_lexer": "ipython3",
   "version": "3.11.9"
  }
 },
 "nbformat": 4,
 "nbformat_minor": 5
}
