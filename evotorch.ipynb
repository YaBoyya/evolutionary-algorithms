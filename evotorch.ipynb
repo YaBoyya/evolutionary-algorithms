{
 "cells": [
  {
   "cell_type": "code",
   "execution_count": 53,
   "id": "a9573ccf-afab-4c60-b7db-47012ecab072",
   "metadata": {},
   "outputs": [
    {
     "name": "stdout",
     "output_type": "stream",
     "text": [
      "[2024-05-27 21:03:09] INFO     < 3851> evotorch.core: Instance of `Problem` (id:140706846979984) -- The `dtype` for the problem's decision variables is set as torch.int64\n",
      "[2024-05-27 21:03:09] INFO     < 3851> evotorch.core: Instance of `Problem` (id:140706846979984) -- `eval_dtype` (the dtype of the fitnesses and evaluation data) is set as torch.float32\n",
      "[2024-05-27 21:03:09] INFO     < 3851> evotorch.core: Instance of `Problem` (id:140706846979984) -- The `device` of the problem is set as cpu\n",
      "[2024-05-27 21:03:09] INFO     < 3851> evotorch.core: Instance of `Problem` (id:140706846979984) -- The number of actors that will be allocated for parallelized evaluation is 0\n"
     ]
    },
    {
     "data": {
      "text/plain": [
       "<LazyStatusDict\n",
       "    pop_best = <not yet computed>\n",
       "    pop_best_eval = <not yet computed>\n",
       "    mean_eval = <not yet computed>\n",
       "    median_eval = <not yet computed>\n",
       "    iter = 1\n",
       "    best = <Solution values=tensor([2, 0, 3, 1]), evals=tensor([90.3066])>\n",
       "    worst = <Solution values=tensor([1, 2, 2, 2]), evals=tensor([2000.])>\n",
       "    best_eval = 90.30657196044922\n",
       "    worst_eval = 2000.0\n",
       ">"
      ]
     },
     "execution_count": 53,
     "metadata": {},
     "output_type": "execute_result"
    }
   ],
   "source": [
    "from evotorch import Problem\n",
    "from evotorch.algorithms import GeneticAlgorithm\n",
    "from evotorch.operators import OnePointCrossOver, GaussianMutation\n",
    "from torch import Tensor\n",
    "import random\n",
    "import torch\n",
    "import math\n",
    "\n",
    "cityList=[(12, 34), (56, 63), (1, 5), (15, 50)]\n",
    "\n",
    "def distance(x, y):\n",
    "    return math.sqrt((x[0]-y[0])**2+(x[1]-y[1])**2)\n",
    "\n",
    "def fun(x):\n",
    "    uniq = x.unique()\n",
    "    if(uniq.size(0) != x.size(0)):\n",
    "        return (x.size(0)-uniq.size(0))*1000\n",
    "    dist = 0\n",
    "    for i in range(x.size(0) - 1):\n",
    "        dist += distance(cityList[x[i]], cityList[x[i + 1]])\n",
    "    return dist\n",
    "\n",
    "def mutation(values: torch.Tensor) -> torch.Tensor:\n",
    "    return values.apply_(lambda x: random.randint(0, 3))\n",
    "\n",
    "problem = Problem(\"min\", fun, bounds=(0, 3), solution_length=4, dtype=torch.int64,)\n",
    "searcher = GeneticAlgorithm(problem, popsize=100, operators=[\n",
    "    OnePointCrossOver(problem, tournament_size=4),\n",
    "    mutation\n",
    "])\n",
    "searcher.step()\n",
    "searcher.status"
   ]
  },
  {
   "cell_type": "code",
   "execution_count": null,
   "id": "92b6afc4-61cf-4985-9852-384f47280646",
   "metadata": {},
   "outputs": [],
   "source": []
  }
 ],
 "metadata": {
  "kernelspec": {
   "display_name": "Python 3 (ipykernel)",
   "language": "python",
   "name": "python3"
  },
  "language_info": {
   "codemirror_mode": {
    "name": "ipython",
    "version": 3
   },
   "file_extension": ".py",
   "mimetype": "text/x-python",
   "name": "python",
   "nbconvert_exporter": "python",
   "pygments_lexer": "ipython3",
   "version": "3.11.9"
  }
 },
 "nbformat": 4,
 "nbformat_minor": 5
}
