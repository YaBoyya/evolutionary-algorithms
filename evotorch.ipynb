{
 "cells": [
  {
   "cell_type": "code",
   "execution_count": 1,
   "id": "a9573ccf-afab-4c60-b7db-47012ecab072",
   "metadata": {},
   "outputs": [],
   "source": [
    "from evotorch import Problem\n",
    "from evotorch.algorithms import GeneticAlgorithm\n",
    "from evotorch.operators import OnePointCrossOver, GaussianMutation\n",
    "from torch import Tensor\n",
    "import random\n",
    "import torch\n",
    "import math"
   ]
  },
  {
   "cell_type": "code",
   "execution_count": 2,
   "id": "92b6afc4-61cf-4985-9852-384f47280646",
   "metadata": {},
   "outputs": [],
   "source": [
    "def distance(x, y):\n",
    "    return math.sqrt((x[0]-y[0])**2+(x[1]-y[1])**2)\n",
    "\n",
    "\n",
    "def fun(x):\n",
    "    uniq = x.unique()\n",
    "    if(uniq.size(0) != x.size(0)):\n",
    "        return (x.size(0)-uniq.size(0))*penalty\n",
    "    dist = 0\n",
    "    for i in range(x.size(0) - 1):\n",
    "        dist += distance(cityList[x[i]], cityList[x[i + 1]])\n",
    "    return dist\n",
    "\n",
    "\n",
    "def mutation(values: torch.Tensor) -> torch.Tensor:\n",
    "    new_values = []\n",
    "    for i in range(popsize):\n",
    "        l = [i for i in range(city_count)]\n",
    "        random.shuffle(l)\n",
    "        new_values.append(l)\n",
    "    return Tensor(new_values)\n",
    "\n",
    "def create_city_list(city_count: int) -> list:\n",
    "    val_range = city_count*10\n",
    "    return [\n",
    "        (random.randrange(val_range), random.randrange(val_range))\n",
    "        for _ in range(city_count)\n",
    "    ]"
   ]
  },
  {
   "cell_type": "code",
   "execution_count": 3,
   "id": "0398f498-11ee-463c-9677-2e0ad05eb682",
   "metadata": {},
   "outputs": [],
   "source": [
    "max_dist = 0\n",
    "popsize = 100\n",
    "city_count = 4\n",
    "cityList = create_city_list(city_count)\n",
    "\n",
    "for i in cityList:\n",
    "    for j in cityList:\n",
    "        dist = distance(i, j)\n",
    "        if(dist > max_dist):\n",
    "            max_dist = dist\n",
    "penalty = max_dist * len(cityList)"
   ]
  },
  {
   "cell_type": "code",
   "execution_count": 4,
   "id": "d6ba2149-8075-45ca-9474-8c6b98e01e39",
   "metadata": {
    "scrolled": true
   },
   "outputs": [
    {
     "name": "stdout",
     "output_type": "stream",
     "text": [
      "[2024-05-27 21:51:05] INFO     <47043> evotorch.core: Instance of `Problem` (id:140155480051760) -- The `dtype` for the problem's decision variables is set as torch.int64\n",
      "[2024-05-27 21:51:05] INFO     <47043> evotorch.core: Instance of `Problem` (id:140155480051760) -- `eval_dtype` (the dtype of the fitnesses and evaluation data) is set as torch.float32\n",
      "[2024-05-27 21:51:05] INFO     <47043> evotorch.core: Instance of `Problem` (id:140155480051760) -- The `device` of the problem is set as cpu\n",
      "[2024-05-27 21:51:05] INFO     <47043> evotorch.core: Instance of `Problem` (id:140155480051760) -- The number of actors that will be allocated for parallelized evaluation is 0\n"
     ]
    }
   ],
   "source": [
    "problem = Problem(\"min\", fun, bounds=(0, city_count-1), solution_length=4, dtype=torch.int64,)\n",
    "\n",
    "searcher = GeneticAlgorithm(problem, popsize=popsize, operators=[\n",
    "    OnePointCrossOver(problem, tournament_size=4),\n",
    "    mutation\n",
    "])"
   ]
  },
  {
   "cell_type": "code",
   "execution_count": 5,
   "id": "97c39ca9-e079-4d28-878a-e36fa6df2d5e",
   "metadata": {},
   "outputs": [],
   "source": [
    "searcher.step()"
   ]
  },
  {
   "cell_type": "code",
   "execution_count": 6,
   "id": "98a79c71-afe0-41b5-b5fe-0740179b1f4f",
   "metadata": {},
   "outputs": [
    {
     "data": {
      "text/plain": [
       "<LazyStatusDict\n",
       "    pop_best_eval = <not yet computed>\n",
       "    mean_eval = <not yet computed>\n",
       "    pop_best = <not yet computed>\n",
       "    median_eval = <not yet computed>\n",
       "    iter = 1\n",
       "    best = <Solution values=tensor([1, 0, 3, 2]), evals=tensor([43.5810])>\n",
       "    worst = <Solution values=tensor([0, 0, 0, 0]), evals=tensor([300.])>\n",
       "    best_eval = 43.5810432434082\n",
       "    worst_eval = 300.0\n",
       ">"
      ]
     },
     "execution_count": 6,
     "metadata": {},
     "output_type": "execute_result"
    }
   ],
   "source": [
    "searcher.status"
   ]
  }
 ],
 "metadata": {
  "kernelspec": {
   "display_name": "Python 3 (ipykernel)",
   "language": "python",
   "name": "python3"
  },
  "language_info": {
   "codemirror_mode": {
    "name": "ipython",
    "version": 3
   },
   "file_extension": ".py",
   "mimetype": "text/x-python",
   "name": "python",
   "nbconvert_exporter": "python",
   "pygments_lexer": "ipython3",
   "version": "3.10.12"
  }
 },
 "nbformat": 4,
 "nbformat_minor": 5
}
