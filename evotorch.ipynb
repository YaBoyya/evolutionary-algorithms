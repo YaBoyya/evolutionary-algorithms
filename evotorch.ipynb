{
 "cells": [
  {
   "cell_type": "code",
   "execution_count": 1,
   "id": "a9573ccf-afab-4c60-b7db-47012ecab072",
   "metadata": {},
   "outputs": [],
   "source": [
    "from evotorch import Problem\n",
    "from evotorch.algorithms import GeneticAlgorithm\n",
    "from evotorch.operators import OnePointCrossOver, GaussianMutation\n",
    "from torch import Tensor\n",
    "import random\n",
    "import torch\n",
    "import math"
   ]
  },
  {
   "cell_type": "code",
   "execution_count": 2,
   "id": "92b6afc4-61cf-4985-9852-384f47280646",
   "metadata": {},
   "outputs": [],
   "source": [
    "def distance(x, y):\n",
    "    return math.sqrt((x[0]-y[0])**2+(x[1]-y[1])**2)\n",
    "    \n",
    "def fun(x):\n",
    "    #Huge penalty for non unique indexes\n",
    "    uniq = x.unique()\n",
    "    if(uniq.size(0) != x.size(0)):\n",
    "        return (x.size(0)-uniq.size(0))*penalty\n",
    "    dist = distance(cityList[x[x.size(0)-1]], cityList[x[0]])\n",
    "    for i in range(x.size(0) - 1):\n",
    "        dist += distance(cityList[x[i]], cityList[x[i + 1]])\n",
    "    return dist\n",
    "\n",
    "def mutation(values: torch.Tensor) -> torch.Tensor:\n",
    "    #Makes indexes all unique\n",
    "    if(values.unique().size(0) != values.size(0)):\n",
    "        t = list(range(city_count))\n",
    "        random.shuffle(t)\n",
    "        values = torch.Tensor(t)\n",
    "\n",
    "    #Swaps values in population randomly\n",
    "    swap_count = math.floor(city_count*0.05)\n",
    "    for i in range(swap_count):\n",
    "        r1 = random.randint(0, city_count-1)\n",
    "        r2 = random.randint(0, city_count-2)\n",
    "        if(r2 >= r1):\n",
    "            r2 += 1\n",
    "        values[r1], values[r2] = values[r2], values[r1]\n",
    "    return values\n",
    "def create_city_list(city_count: int) -> list:\n",
    "    val_range = city_count*1000\n",
    "    return [\n",
    "        (random.randrange(val_range), random.randrange(val_range))\n",
    "        for _ in range(city_count)\n",
    "    ]"
   ]
  },
  {
   "cell_type": "code",
   "execution_count": 3,
   "id": "0398f498-11ee-463c-9677-2e0ad05eb682",
   "metadata": {},
   "outputs": [],
   "source": [
    "max_dist = 0\n",
    "popsize = 100\n",
    "city_count = 5\n",
    "cityList = create_city_list(city_count)\n",
    "\n",
    "for i in cityList:\n",
    "    for j in cityList:\n",
    "        dist = distance(i, j)\n",
    "        if(dist > max_dist):\n",
    "            max_dist = dist\n",
    "penalty = max_dist * len(cityList)"
   ]
  },
  {
   "cell_type": "code",
   "execution_count": 4,
   "id": "d6ba2149-8075-45ca-9474-8c6b98e01e39",
   "metadata": {
    "scrolled": true
   },
   "outputs": [
    {
     "name": "stdout",
     "output_type": "stream",
     "text": [
      "[2024-05-28 20:49:46] INFO     <11429> evotorch.core: Instance of `Problem` (id:140516275224656) -- The `dtype` for the problem's decision variables is set as torch.int64\n",
      "[2024-05-28 20:49:46] INFO     <11429> evotorch.core: Instance of `Problem` (id:140516275224656) -- `eval_dtype` (the dtype of the fitnesses and evaluation data) is set as torch.float32\n",
      "[2024-05-28 20:49:46] INFO     <11429> evotorch.core: Instance of `Problem` (id:140516275224656) -- The `device` of the problem is set as cpu\n",
      "[2024-05-28 20:49:46] INFO     <11429> evotorch.core: Instance of `Problem` (id:140516275224656) -- The number of actors that will be allocated for parallelized evaluation is 0\n"
     ]
    }
   ],
   "source": [
    "problem = Problem(\"min\", fun, bounds=(0, city_count-1), solution_length=city_count, dtype=torch.int64)\n",
    "\n",
    "searcher = GeneticAlgorithm(problem, popsize=popsize, operators=[\n",
    "    OnePointCrossOver(problem, tournament_size=math.floor(city_count*0.1)),\n",
    "    mutation\n",
    "])"
   ]
  },
  {
   "cell_type": "code",
   "execution_count": 5,
   "id": "97c39ca9-e079-4d28-878a-e36fa6df2d5e",
   "metadata": {},
   "outputs": [
    {
     "ename": "IndexError",
     "evalue": "argmax(): Expected reduction dim 1 to have non-zero size.",
     "output_type": "error",
     "traceback": [
      "\u001b[0;31m---------------------------------------------------------------------------\u001b[0m",
      "\u001b[0;31mIndexError\u001b[0m                                Traceback (most recent call last)",
      "Cell \u001b[0;32mIn[5], line 1\u001b[0m\n\u001b[0;32m----> 1\u001b[0m \u001b[43msearcher\u001b[49m\u001b[38;5;241;43m.\u001b[39;49m\u001b[43mrun\u001b[49m\u001b[43m(\u001b[49m\u001b[38;5;241;43m1000\u001b[39;49m\u001b[43m)\u001b[49m\n",
      "File \u001b[0;32m~/Projects/.sync/Combined/Python/.venv/lib/python3.11/site-packages/evotorch/algorithms/searchalgorithm.py:425\u001b[0m, in \u001b[0;36mSearchAlgorithm.run\u001b[0;34m(self, num_generations, reset_first_step_datetime)\u001b[0m\n\u001b[1;32m    422\u001b[0m     \u001b[38;5;28mself\u001b[39m\u001b[38;5;241m.\u001b[39mreset_first_step_datetime()\n\u001b[1;32m    424\u001b[0m \u001b[38;5;28;01mfor\u001b[39;00m _ \u001b[38;5;129;01min\u001b[39;00m \u001b[38;5;28mrange\u001b[39m(\u001b[38;5;28mint\u001b[39m(num_generations)):\n\u001b[0;32m--> 425\u001b[0m     \u001b[38;5;28;43mself\u001b[39;49m\u001b[38;5;241;43m.\u001b[39;49m\u001b[43mstep\u001b[49m\u001b[43m(\u001b[49m\u001b[43m)\u001b[49m\n\u001b[1;32m    427\u001b[0m \u001b[38;5;28;01mif\u001b[39;00m \u001b[38;5;28mlen\u001b[39m(\u001b[38;5;28mself\u001b[39m\u001b[38;5;241m.\u001b[39m_end_of_run_hook) \u001b[38;5;241m>\u001b[39m\u001b[38;5;241m=\u001b[39m \u001b[38;5;241m1\u001b[39m:\n\u001b[1;32m    428\u001b[0m     \u001b[38;5;28mself\u001b[39m\u001b[38;5;241m.\u001b[39m_end_of_run_hook(\u001b[38;5;28mdict\u001b[39m(\u001b[38;5;28mself\u001b[39m\u001b[38;5;241m.\u001b[39mstatus))\n",
      "File \u001b[0;32m~/Projects/.sync/Combined/Python/.venv/lib/python3.11/site-packages/evotorch/algorithms/searchalgorithm.py:390\u001b[0m, in \u001b[0;36mSearchAlgorithm.step\u001b[0;34m(self)\u001b[0m\n\u001b[1;32m    387\u001b[0m \u001b[38;5;28;01mif\u001b[39;00m \u001b[38;5;28mself\u001b[39m\u001b[38;5;241m.\u001b[39m_first_step_datetime \u001b[38;5;129;01mis\u001b[39;00m \u001b[38;5;28;01mNone\u001b[39;00m:\n\u001b[1;32m    388\u001b[0m     \u001b[38;5;28mself\u001b[39m\u001b[38;5;241m.\u001b[39m_first_step_datetime \u001b[38;5;241m=\u001b[39m datetime\u001b[38;5;241m.\u001b[39mnow()\n\u001b[0;32m--> 390\u001b[0m \u001b[38;5;28;43mself\u001b[39;49m\u001b[38;5;241;43m.\u001b[39;49m\u001b[43m_step\u001b[49m\u001b[43m(\u001b[49m\u001b[43m)\u001b[49m\n\u001b[1;32m    391\u001b[0m \u001b[38;5;28mself\u001b[39m\u001b[38;5;241m.\u001b[39m_steps_count \u001b[38;5;241m+\u001b[39m\u001b[38;5;241m=\u001b[39m \u001b[38;5;241m1\u001b[39m\n\u001b[1;32m    392\u001b[0m \u001b[38;5;28mself\u001b[39m\u001b[38;5;241m.\u001b[39mupdate_status({\u001b[38;5;124m\"\u001b[39m\u001b[38;5;124miter\u001b[39m\u001b[38;5;124m\"\u001b[39m: \u001b[38;5;28mself\u001b[39m\u001b[38;5;241m.\u001b[39m_steps_count})\n",
      "File \u001b[0;32m~/Projects/.sync/Combined/Python/.venv/lib/python3.11/site-packages/evotorch/algorithms/ga.py:646\u001b[0m, in \u001b[0;36mGeneticAlgorithm._step\u001b[0;34m(self)\u001b[0m\n\u001b[1;32m    640\u001b[0m popsize \u001b[38;5;241m=\u001b[39m \u001b[38;5;28mself\u001b[39m\u001b[38;5;241m.\u001b[39m_popsize\n\u001b[1;32m    642\u001b[0m \u001b[38;5;28;01mif\u001b[39;00m \u001b[38;5;28mself\u001b[39m\u001b[38;5;241m.\u001b[39m_elitist:\n\u001b[1;32m    643\u001b[0m     \u001b[38;5;66;03m# This is where we handle the elitist mode.\u001b[39;00m\n\u001b[1;32m    644\u001b[0m \n\u001b[1;32m    645\u001b[0m     \u001b[38;5;66;03m# Produce and get an extended population in a single SolutionBatch\u001b[39;00m\n\u001b[0;32m--> 646\u001b[0m     extended_population \u001b[38;5;241m=\u001b[39m \u001b[38;5;28;43mself\u001b[39;49m\u001b[38;5;241;43m.\u001b[39;49m\u001b[43m_make_extended_population\u001b[49m\u001b[43m(\u001b[49m\u001b[43msplit\u001b[49m\u001b[38;5;241;43m=\u001b[39;49m\u001b[38;5;28;43;01mFalse\u001b[39;49;00m\u001b[43m)\u001b[49m\n\u001b[1;32m    648\u001b[0m     \u001b[38;5;66;03m# From the extended population, take the best n solutions, n being the popsize.\u001b[39;00m\n\u001b[1;32m    649\u001b[0m     \u001b[38;5;28mself\u001b[39m\u001b[38;5;241m.\u001b[39m_population \u001b[38;5;241m=\u001b[39m extended_population\u001b[38;5;241m.\u001b[39mtake_best(popsize)\n",
      "File \u001b[0;32m~/Projects/.sync/Combined/Python/.venv/lib/python3.11/site-packages/evotorch/algorithms/ga.py:164\u001b[0m, in \u001b[0;36mExtendedPopulationMixin._make_extended_population\u001b[0;34m(self, split)\u001b[0m\n\u001b[1;32m    161\u001b[0m problem\u001b[38;5;241m.\u001b[39mevaluate(population)\n\u001b[1;32m    163\u001b[0m \u001b[38;5;66;03m# Now that our parents are evaluated, we use the operators on them and get the children.\u001b[39;00m\n\u001b[0;32m--> 164\u001b[0m children \u001b[38;5;241m=\u001b[39m \u001b[43m_use_operators\u001b[49m\u001b[43m(\u001b[49m\u001b[43mpopulation\u001b[49m\u001b[43m,\u001b[49m\u001b[43m \u001b[49m\u001b[38;5;28;43mself\u001b[39;49m\u001b[38;5;241;43m.\u001b[39;49m\u001b[43m_operators\u001b[49m\u001b[43m)\u001b[49m\n\u001b[1;32m    166\u001b[0m \u001b[38;5;66;03m# Evaluate the children\u001b[39;00m\n\u001b[1;32m    167\u001b[0m problem\u001b[38;5;241m.\u001b[39mevaluate(children)\n",
      "File \u001b[0;32m~/Projects/.sync/Combined/Python/.venv/lib/python3.11/site-packages/evotorch/algorithms/ga.py:44\u001b[0m, in \u001b[0;36m_use_operators\u001b[0;34m(batch, operators)\u001b[0m\n\u001b[1;32m     42\u001b[0m \u001b[38;5;28;01mdef\u001b[39;00m \u001b[38;5;21m_use_operators\u001b[39m(batch: SolutionBatch, operators: Iterable) \u001b[38;5;241m-\u001b[39m\u001b[38;5;241m>\u001b[39m SolutionBatch:\n\u001b[1;32m     43\u001b[0m     \u001b[38;5;28;01mfor\u001b[39;00m operator \u001b[38;5;129;01min\u001b[39;00m operators:\n\u001b[0;32m---> 44\u001b[0m         batch \u001b[38;5;241m=\u001b[39m \u001b[43m_use_operator\u001b[49m\u001b[43m(\u001b[49m\u001b[43mbatch\u001b[49m\u001b[43m,\u001b[49m\u001b[43m \u001b[49m\u001b[43moperator\u001b[49m\u001b[43m)\u001b[49m\n\u001b[1;32m     45\u001b[0m     \u001b[38;5;28;01mreturn\u001b[39;00m batch\n",
      "File \u001b[0;32m~/Projects/.sync/Combined/Python/.venv/lib/python3.11/site-packages/evotorch/algorithms/ga.py:30\u001b[0m, in \u001b[0;36m_use_operator\u001b[0;34m(batch, operator)\u001b[0m\n\u001b[1;32m     27\u001b[0m \u001b[38;5;28;01mfrom\u001b[39;00m \u001b[38;5;21;01m.\u001b[39;00m\u001b[38;5;21;01m.\u001b[39;00m\u001b[38;5;21;01moperators\u001b[39;00m \u001b[38;5;28;01mimport\u001b[39;00m CopyingOperator, Operator\n\u001b[1;32m     29\u001b[0m \u001b[38;5;28;01mif\u001b[39;00m \u001b[38;5;28misinstance\u001b[39m(operator, CopyingOperator):\n\u001b[0;32m---> 30\u001b[0m     result \u001b[38;5;241m=\u001b[39m \u001b[43moperator\u001b[49m\u001b[43m(\u001b[49m\u001b[43mbatch\u001b[49m\u001b[43m)\u001b[49m\n\u001b[1;32m     31\u001b[0m \u001b[38;5;28;01melif\u001b[39;00m \u001b[38;5;28misinstance\u001b[39m(operator, Operator):\n\u001b[1;32m     32\u001b[0m     result \u001b[38;5;241m=\u001b[39m batch\u001b[38;5;241m.\u001b[39mclone()\n",
      "File \u001b[0;32m~/Projects/.sync/Combined/Python/.venv/lib/python3.11/site-packages/evotorch/operators/base.py:148\u001b[0m, in \u001b[0;36mCopyingOperator.__call__\u001b[0;34m(self, batch)\u001b[0m\n\u001b[1;32m    147\u001b[0m \u001b[38;5;28;01mdef\u001b[39;00m \u001b[38;5;21m__call__\u001b[39m(\u001b[38;5;28mself\u001b[39m, batch: SolutionBatch) \u001b[38;5;241m-\u001b[39m\u001b[38;5;241m>\u001b[39m SolutionBatch:\n\u001b[0;32m--> 148\u001b[0m     \u001b[38;5;28;01mreturn\u001b[39;00m \u001b[38;5;28;43mself\u001b[39;49m\u001b[38;5;241;43m.\u001b[39;49m\u001b[43m_do\u001b[49m\u001b[43m(\u001b[49m\u001b[43mbatch\u001b[49m\u001b[43m)\u001b[49m\n",
      "File \u001b[0;32m~/Projects/.sync/Combined/Python/.venv/lib/python3.11/site-packages/evotorch/operators/base.py:406\u001b[0m, in \u001b[0;36mCrossOver._do\u001b[0;34m(self, batch)\u001b[0m\n\u001b[1;32m    405\u001b[0m \u001b[38;5;28;01mdef\u001b[39;00m \u001b[38;5;21m_do\u001b[39m(\u001b[38;5;28mself\u001b[39m, batch: SolutionBatch) \u001b[38;5;241m-\u001b[39m\u001b[38;5;241m>\u001b[39m SolutionBatch:\n\u001b[0;32m--> 406\u001b[0m     parents1, parents2 \u001b[38;5;241m=\u001b[39m \u001b[38;5;28;43mself\u001b[39;49m\u001b[38;5;241;43m.\u001b[39;49m\u001b[43m_do_tournament\u001b[49m\u001b[43m(\u001b[49m\u001b[43mbatch\u001b[49m\u001b[43m)\u001b[49m\n\u001b[1;32m    407\u001b[0m     \u001b[38;5;28;01mif\u001b[39;00m \u001b[38;5;28mlen\u001b[39m(parents1) \u001b[38;5;241m!=\u001b[39m \u001b[38;5;28mlen\u001b[39m(parents2):\n\u001b[1;32m    408\u001b[0m         \u001b[38;5;28;01mraise\u001b[39;00m \u001b[38;5;167;01mValueError\u001b[39;00m(\n\u001b[1;32m    409\u001b[0m             \u001b[38;5;124mf\u001b[39m\u001b[38;5;124m\"\u001b[39m\u001b[38;5;124m_do_tournament() returned parents1 and parents2 with incompatible sizes. \u001b[39m\u001b[38;5;124m\"\u001b[39m\n\u001b[1;32m    410\u001b[0m             \u001b[38;5;124mf\u001b[39m\u001b[38;5;124m\"\u001b[39m\u001b[38;5;124mlen(parents1): \u001b[39m\u001b[38;5;132;01m{\u001b[39;00m\u001b[38;5;28mlen\u001b[39m(parents1)\u001b[38;5;132;01m}\u001b[39;00m\u001b[38;5;124m; len(parents2): \u001b[39m\u001b[38;5;132;01m{\u001b[39;00m\u001b[38;5;28mlen\u001b[39m(parents2)\u001b[38;5;132;01m}\u001b[39;00m\u001b[38;5;124m.\u001b[39m\u001b[38;5;124m\"\u001b[39m\n\u001b[1;32m    411\u001b[0m         )\n",
      "File \u001b[0;32m~/Projects/.sync/Combined/Python/.venv/lib/python3.11/site-packages/torch/utils/_contextlib.py:115\u001b[0m, in \u001b[0;36mcontext_decorator.<locals>.decorate_context\u001b[0;34m(*args, **kwargs)\u001b[0m\n\u001b[1;32m    112\u001b[0m \u001b[38;5;129m@functools\u001b[39m\u001b[38;5;241m.\u001b[39mwraps(func)\n\u001b[1;32m    113\u001b[0m \u001b[38;5;28;01mdef\u001b[39;00m \u001b[38;5;21mdecorate_context\u001b[39m(\u001b[38;5;241m*\u001b[39margs, \u001b[38;5;241m*\u001b[39m\u001b[38;5;241m*\u001b[39mkwargs):\n\u001b[1;32m    114\u001b[0m     \u001b[38;5;28;01mwith\u001b[39;00m ctx_factory():\n\u001b[0;32m--> 115\u001b[0m         \u001b[38;5;28;01mreturn\u001b[39;00m \u001b[43mfunc\u001b[49m\u001b[43m(\u001b[49m\u001b[38;5;241;43m*\u001b[39;49m\u001b[43margs\u001b[49m\u001b[43m,\u001b[49m\u001b[43m \u001b[49m\u001b[38;5;241;43m*\u001b[39;49m\u001b[38;5;241;43m*\u001b[39;49m\u001b[43mkwargs\u001b[49m\u001b[43m)\u001b[49m\n",
      "File \u001b[0;32m~/Projects/.sync/Combined/Python/.venv/lib/python3.11/site-packages/evotorch/operators/base.py:328\u001b[0m, in \u001b[0;36mCrossOver._do_tournament\u001b[0;34m(self, batch)\u001b[0m\n\u001b[1;32m    303\u001b[0m \u001b[38;5;66;03m# Imagine tournament size is 2, and the solutions are [ worst, bad, best, good ].\u001b[39;00m\n\u001b[1;32m    304\u001b[0m \u001b[38;5;66;03m# So, what we have is (0.2s are actually 0.166666...):\u001b[39;00m\n\u001b[1;32m    305\u001b[0m \u001b[38;5;66;03m#\u001b[39;00m\n\u001b[0;32m   (...)\u001b[0m\n\u001b[1;32m    324\u001b[0m \u001b[38;5;66;03m#   In tournament 0, left-candidate has rank -0.5, and right-candidate has -0.2.\u001b[39;00m\n\u001b[1;32m    325\u001b[0m \u001b[38;5;66;03m#   In tournament 1, left-candidate has rank 0.5, and right-candidate has 0.2; and so on.\u001b[39;00m\n\u001b[1;32m    327\u001b[0m tournament_rows \u001b[38;5;241m=\u001b[39m torch\u001b[38;5;241m.\u001b[39marange(\u001b[38;5;241m0\u001b[39m, num_tournaments, device\u001b[38;5;241m=\u001b[39mindata\u001b[38;5;241m.\u001b[39mdevice)\n\u001b[0;32m--> 328\u001b[0m parents \u001b[38;5;241m=\u001b[39m tournament_indices[tournament_rows, \u001b[43mtorch\u001b[49m\u001b[38;5;241;43m.\u001b[39;49m\u001b[43margmax\u001b[49m\u001b[43m(\u001b[49m\u001b[43mtournament_ranks\u001b[49m\u001b[43m,\u001b[49m\u001b[43m \u001b[49m\u001b[43mdim\u001b[49m\u001b[38;5;241;43m=\u001b[39;49m\u001b[38;5;241;43m-\u001b[39;49m\u001b[38;5;241;43m1\u001b[39;49m\u001b[43m)\u001b[49m]\n\u001b[1;32m    330\u001b[0m \u001b[38;5;66;03m# Continuing from the [ worst, bad, best, good ] example, we end up with:\u001b[39;00m\n\u001b[1;32m    331\u001b[0m \u001b[38;5;66;03m#\u001b[39;00m\n\u001b[1;32m    332\u001b[0m \u001b[38;5;66;03m#            T                                    T\u001b[39;00m\n\u001b[0;32m   (...)\u001b[0m\n\u001b[1;32m    350\u001b[0m \n\u001b[1;32m    351\u001b[0m \u001b[38;5;66;03m# We split the parents array from the middle\u001b[39;00m\n\u001b[1;32m    352\u001b[0m split_point \u001b[38;5;241m=\u001b[39m \u001b[38;5;28mint\u001b[39m(\u001b[38;5;28mlen\u001b[39m(parents) \u001b[38;5;241m/\u001b[39m \u001b[38;5;241m2\u001b[39m)\n",
      "\u001b[0;31mIndexError\u001b[0m: argmax(): Expected reduction dim 1 to have non-zero size."
     ]
    }
   ],
   "source": [
    "searcher.run(1000)"
   ]
  },
  {
   "cell_type": "code",
   "execution_count": null,
   "id": "98a79c71-afe0-41b5-b5fe-0740179b1f4f",
   "metadata": {},
   "outputs": [],
   "source": [
    "searcher.status"
   ]
  }
 ],
 "metadata": {
  "kernelspec": {
   "display_name": "Python 3 (ipykernel)",
   "language": "python",
   "name": "python3"
  },
  "language_info": {
   "codemirror_mode": {
    "name": "ipython",
    "version": 3
   },
   "file_extension": ".py",
   "mimetype": "text/x-python",
   "name": "python",
   "nbconvert_exporter": "python",
   "pygments_lexer": "ipython3",
   "version": "3.11.9"
  }
 },
 "nbformat": 4,
 "nbformat_minor": 5
}
