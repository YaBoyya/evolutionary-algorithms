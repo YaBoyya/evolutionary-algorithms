{
 "cells": [
  {
   "cell_type": "code",
   "execution_count": 1,
   "id": "a9573ccf-afab-4c60-b7db-47012ecab072",
   "metadata": {},
   "outputs": [],
   "source": [
    "from evotorch import Problem\n",
    "from evotorch.algorithms import GeneticAlgorithm\n",
    "from evotorch.operators import OnePointCrossOver, GaussianMutation, Operator\n",
    "from torch import Tensor\n",
    "import random\n",
    "import torch\n",
    "import math\n",
    "import logging\n",
    "log = logging.getLogger(\"evotorch\")\n",
    "log.propagate = False\n",
    "log.setLevel(logging.ERROR)"
   ]
  },
  {
   "cell_type": "code",
   "execution_count": 2,
   "id": "92b6afc4-61cf-4985-9852-384f47280646",
   "metadata": {},
   "outputs": [],
   "source": [
    "def distance(x, y):\n",
    "    return math.sqrt((x[0]-y[0])**2+(x[1]-y[1])**2)\n",
    "\n",
    "\n",
    "def fun(x):\n",
    "    #Huge penalty for non unique indexes\n",
    "    uniq = x.unique(sorted=False)\n",
    "    if(uniq.size(0) != x.size(0)):\n",
    "        return (x.size(0)-uniq.size(0))*penalty\n",
    "    dist = distance(cityList[x[x.size(0) - 1]], cityList[x[0]])\n",
    "    for i in range(x.size(0) - 1):\n",
    "        dist += distance(cityList[x[i]], cityList[x[i + 1]])\n",
    "    return dist\n",
    "\n",
    "def mutation(values: torch.Tensor) -> torch.Tensor:\n",
    "    for j in range(values.size(0)):\n",
    "        u = values[j].unique(sorted=False)\n",
    "        #Makes indexes all unique\n",
    "        if(u.size(0) != city_count):\n",
    "            all = list(range(city_count))\n",
    "            for i in u:\n",
    "                all.remove(i)\n",
    "            random.shuffle(all)\n",
    "            values[j] = torch.cat([u, torch.Tensor(all)])\n",
    "            \n",
    "        #Swaps values in population randomly\n",
    "        for i in range(swap_count):\n",
    "            r1 = random.randint(0, city_count-1)\n",
    "            r2 = random.randint(0, city_count-2)\n",
    "            if(r2 >= r1):\n",
    "                r2 += 1\n",
    "            values[j][r1], values[j][r2] = values[j][r2], values[j][r1]\n",
    "    return values\n",
    "\n",
    "\n",
    "def create_city_list(city_count: int) -> list:\n",
    "    val_range = city_count*10\n",
    "    return [\n",
    "        (random.randrange(val_range), random.randrange(val_range))\n",
    "        for _ in range(city_count)\n",
    "    ]"
   ]
  },
  {
   "cell_type": "code",
   "execution_count": 3,
   "id": "4bf51c13-5ff9-4e29-bc37-748eaf9d15e9",
   "metadata": {},
   "outputs": [],
   "source": [
    "city_count = 100\n",
    "max_dist = 0\n",
    "cityList = create_city_list(city_count)\n",
    "\n",
    "for i in cityList:\n",
    "    for j in cityList:\n",
    "        dist = distance(i, j)\n",
    "        if(dist > max_dist):\n",
    "            max_dist = dist\n",
    "penalty = max_dist * len(cityList)"
   ]
  },
  {
   "cell_type": "code",
   "execution_count": 4,
   "id": "db8a0b42-b968-4c3e-9b05-1f7dd2df051f",
   "metadata": {},
   "outputs": [],
   "source": [
    "import networkx as nx\n",
    "G = nx.cycle_graph(city_count)\n",
    "for i in range(city_count):\n",
    "    for j in range(city_count):\n",
    "        G.add_edge(i, j, weight=distance(cityList[i], cityList[j]))\n",
    "path = nx.approximation.traveling_salesman_problem(G)\n",
    "dist = 0\n",
    "for i in range(len(path)-1):\n",
    "    dist += distance(cityList[path[i]], cityList[path[i+1]])"
   ]
  },
  {
   "cell_type": "code",
   "execution_count": 5,
   "id": "85167124-942b-4e5a-9730-5f5dd7aab7c4",
   "metadata": {},
   "outputs": [],
   "source": [
    "min = 999999999999"
   ]
  },
  {
   "cell_type": "code",
   "execution_count": 6,
   "id": "290bcfe0-6bb7-45a3-ab83-3f9fc228ea7c",
   "metadata": {},
   "outputs": [],
   "source": [
    "popsize = math.floor(city_count*0.01)\n",
    "tournament_size = popsize"
   ]
  },
  {
   "cell_type": "code",
   "execution_count": null,
   "id": "449ef77e-6fb7-4303-9609-1e5329bd0350",
   "metadata": {},
   "outputs": [
    {
     "name": "stdout",
     "output_type": "stream",
     "text": [
      "popsize: 7 swap_count: 1 ans: 130675.5546875\n",
      "popsize: 7 swap_count: 2 ans: 130675.5546875\n",
      "popsize: 7 swap_count: 3 ans: 130675.5546875\n",
      "popsize: 7 swap_count: 4 ans: 261351.109375\n",
      "popsize: 7 swap_count: 5 ans: 392026.65625\n"
     ]
    }
   ],
   "source": [
    "for swap_count in range(math.floor(city_count*0.01), popsize, math.floor(city_count*0.01)):\n",
    "\n",
    "        problem = Problem(\"min\", fun, bounds=(0, city_count-1), solution_length=city_count, dtype=torch.int64)\n",
    "        searcher = GeneticAlgorithm(problem, popsize=popsize, operators=[\n",
    "            OnePointCrossOver(problem, tournament_size=tournament_size),\n",
    "            mutation\n",
    "        ])\n",
    "        searcher.run(500)\n",
    "        ans = searcher.status[\"best_eval\"]\n",
    "        print(f\"popsize: {popsize} swap_count: {swap_count} ans: {ans}\")\n",
    "        if(ans < min):\n",
    "            min = ans\n",
    "            print(f\"popsize: {popsize} swap_count: {swap_count}\")\n",
    "            print(f\"perfect: {dist}\")\n",
    "            print(path[:-1])\n",
    "            print()\n",
    "            print(f\"ai: {ans}\")\n",
    "            print(searcher.status[\"best\"].values.tolist())\n",
    "            print()\n",
    "            print(f\"diff: {ans-dist}\")\n",
    "            print(f\"magnitude: {ans/dist}\")\n",
    "popsize += math.floor(city_count*0.01)"
   ]
  },
  {
   "cell_type": "code",
   "execution_count": null,
   "id": "10a89b3f-f758-4208-a646-09c7371c2253",
   "metadata": {},
   "outputs": [],
   "source": []
  }
 ],
 "metadata": {
  "kernelspec": {
   "display_name": "Python 3 (ipykernel)",
   "language": "python",
   "name": "python3"
  },
  "language_info": {
   "codemirror_mode": {
    "name": "ipython",
    "version": 3
   },
   "file_extension": ".py",
   "mimetype": "text/x-python",
   "name": "python",
   "nbconvert_exporter": "python",
   "pygments_lexer": "ipython3",
   "version": "3.11.9"
  }
 },
 "nbformat": 4,
 "nbformat_minor": 5
}
