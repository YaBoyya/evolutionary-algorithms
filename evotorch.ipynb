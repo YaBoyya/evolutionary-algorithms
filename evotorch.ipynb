{
 "cells": [
  {
   "cell_type": "code",
   "execution_count": 1,
   "id": "a9573ccf-afab-4c60-b7db-47012ecab072",
   "metadata": {},
   "outputs": [],
   "source": [
    "from evotorch import Problem\n",
    "from evotorch.algorithms import GeneticAlgorithm\n",
    "from evotorch.operators import OnePointCrossOver, GaussianMutation\n",
    "from torch import Tensor\n",
    "import random\n",
    "import torch\n",
    "import math"
   ]
  },
  {
   "cell_type": "code",
   "execution_count": 2,
   "id": "92b6afc4-61cf-4985-9852-384f47280646",
   "metadata": {},
   "outputs": [],
   "source": [
    "def distance(x, y):\n",
    "    return math.sqrt((x[0]-y[0])**2+(x[1]-y[1])**2)\n",
    "    \n",
    "def fun(x):\n",
    "    #Huge penalty for non unique indexes\n",
    "    uniq = x.unique()\n",
    "    if(uniq.size(0) != x.size(0)):\n",
    "        return (x.size(0)-uniq.size(0))*penalty\n",
    "    dist = distance(cityList[x[x.size(0) - 1]], cityList[x[0]])\n",
    "    for i in range(x.size(0) - 1):\n",
    "        dist += distance(cityList[x[i]], cityList[x[i + 1]])\n",
    "    return dist\n",
    "\n",
    "def mutation(values: torch.Tensor) -> torch.Tensor:\n",
    "    #Makes indexes all unique\n",
    "    if(values.unique().size(0) != values.size(0)):\n",
    "        t = list(range(city_count))\n",
    "        random.shuffle(t)\n",
    "        values = torch.Tensor(t)\n",
    "\n",
    "    #Swaps values in population randomly\n",
    "    swap_count = math.floor(city_count*0.05)\n",
    "    for i in range(swap_count):\n",
    "        r1 = random.randint(0, city_count-1)\n",
    "        r2 = random.randint(0, city_count-2)\n",
    "        if(r2 >= r1):\n",
    "            r2 += 1\n",
    "        values[r1], values[r2] = values[r2], values[r1]\n",
    "    return values\n",
    "def create_city_list(city_count: int) -> list:\n",
    "    val_range = city_count*1000\n",
    "    return [\n",
    "        (random.randrange(val_range), random.randrange(val_range))\n",
    "        for _ in range(city_count)\n",
    "    ]"
   ]
  },
  {
   "cell_type": "code",
   "execution_count": 3,
   "id": "0398f498-11ee-463c-9677-2e0ad05eb682",
   "metadata": {},
   "outputs": [],
   "source": [
    "max_dist = 0\n",
    "popsize = 100\n",
    "city_count = 10\n",
    "cityList = create_city_list(city_count)\n",
    "\n",
    "for i in cityList:\n",
    "    for j in cityList:\n",
    "        dist = distance(i, j)\n",
    "        if(dist > max_dist):\n",
    "            max_dist = dist\n",
    "penalty = max_dist * len(cityList)"
   ]
  },
  {
   "cell_type": "code",
   "execution_count": 4,
   "id": "d6ba2149-8075-45ca-9474-8c6b98e01e39",
   "metadata": {
    "scrolled": true
   },
   "outputs": [
    {
     "name": "stdout",
     "output_type": "stream",
     "text": [
      "[2024-05-28 21:00:11] INFO     < 4137> evotorch.core: Instance of `Problem` (id:140566002438288) -- The `dtype` for the problem's decision variables is set as torch.int64\n",
      "[2024-05-28 21:00:11] INFO     < 4137> evotorch.core: Instance of `Problem` (id:140566002438288) -- `eval_dtype` (the dtype of the fitnesses and evaluation data) is set as torch.float32\n",
      "[2024-05-28 21:00:11] INFO     < 4137> evotorch.core: Instance of `Problem` (id:140566002438288) -- The `device` of the problem is set as cpu\n",
      "[2024-05-28 21:00:11] INFO     < 4137> evotorch.core: Instance of `Problem` (id:140566002438288) -- The number of actors that will be allocated for parallelized evaluation is 0\n"
     ]
    }
   ],
   "source": [
    "problem = Problem(\"min\", fun, bounds=(0, city_count-1), solution_length=city_count, dtype=torch.int64)\n",
    "\n",
    "searcher = GeneticAlgorithm(problem, popsize=popsize, operators=[\n",
    "    OnePointCrossOver(problem, tournament_size=math.floor(city_count*0.1)),\n",
    "    mutation\n",
    "])"
   ]
  },
  {
   "cell_type": "code",
   "execution_count": 5,
   "id": "97c39ca9-e079-4d28-878a-e36fa6df2d5e",
   "metadata": {},
   "outputs": [],
   "source": [
    "searcher.run(2)"
   ]
  },
  {
   "cell_type": "code",
   "execution_count": 6,
   "id": "98a79c71-afe0-41b5-b5fe-0740179b1f4f",
   "metadata": {},
   "outputs": [
    {
     "data": {
      "text/plain": [
       "<LazyStatusDict\n",
       "    mean_eval = <not yet computed>\n",
       "    median_eval = <not yet computed>\n",
       "    pop_best = <not yet computed>\n",
       "    pop_best_eval = <not yet computed>\n",
       "    iter = 2\n",
       "    best = <Solution values=tensor([5, 8, 6, 1, 7, 0, 9, 3, 4, 2]), evals=tensor([48611.9766])>\n",
       "    worst = <Solution values=tensor([5, 8, 6, 8, 1, 8, 8, 8, 5, 6]), evals=tensor([563737.9375])>\n",
       "    best_eval = 48611.9765625\n",
       "    worst_eval = 563737.9375\n",
       ">"
      ]
     },
     "execution_count": 6,
     "metadata": {},
     "output_type": "execute_result"
    }
   ],
   "source": [
    "searcher.status"
   ]
  },
  {
   "cell_type": "code",
   "execution_count": null,
   "id": "0c477668-28f4-4609-ab6f-5efcd1767b03",
   "metadata": {},
   "outputs": [],
   "source": []
  }
 ],
 "metadata": {
  "kernelspec": {
   "display_name": "Python 3 (ipykernel)",
   "language": "python",
   "name": "python3"
  },
  "language_info": {
   "codemirror_mode": {
    "name": "ipython",
    "version": 3
   },
   "file_extension": ".py",
   "mimetype": "text/x-python",
   "name": "python",
   "nbconvert_exporter": "python",
   "pygments_lexer": "ipython3",
   "version": "3.11.9"
  }
 },
 "nbformat": 4,
 "nbformat_minor": 5
}
